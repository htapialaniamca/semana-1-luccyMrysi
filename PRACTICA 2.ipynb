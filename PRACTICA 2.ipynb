{
 "cells": [
  {
   "cell_type": "code",
   "execution_count": 33,
   "metadata": {},
   "outputs": [],
   "source": [
    "import sys"
   ]
  },
  {
   "cell_type": "code",
   "execution_count": 34,
   "metadata": {},
   "outputs": [
    {
     "data": {
      "text/plain": [
       "['',\n",
       " '/Users/Lucy/anaconda2/lib/python27.zip',\n",
       " '/Users/Lucy/anaconda2/lib/python2.7',\n",
       " '/Users/Lucy/anaconda2/lib/python2.7/plat-darwin',\n",
       " '/Users/Lucy/anaconda2/lib/python2.7/plat-mac',\n",
       " '/Users/Lucy/anaconda2/lib/python2.7/plat-mac/lib-scriptpackages',\n",
       " '/Users/Lucy/anaconda2/lib/python2.7/lib-tk',\n",
       " '/Users/Lucy/anaconda2/lib/python2.7/lib-old',\n",
       " '/Users/Lucy/anaconda2/lib/python2.7/lib-dynload',\n",
       " '/Users/Lucy/anaconda2/lib/python2.7/site-packages',\n",
       " '/Users/Lucy/anaconda2/lib/python2.7/site-packages/aeosa',\n",
       " '/Users/Lucy/anaconda2/lib/python2.7/site-packages/IPython/extensions',\n",
       " '/Users/Lucy/.ipython']"
      ]
     },
     "execution_count": 34,
     "metadata": {},
     "output_type": "execute_result"
    }
   ],
   "source": [
    "sys.path"
   ]
  },
  {
   "cell_type": "code",
   "execution_count": 35,
   "metadata": {},
   "outputs": [
    {
     "name": "stdout",
     "output_type": "stream",
     "text": [
      "List of devices attached\r\n",
      "L4SDU17224012821\tdevice\r\n",
      "\r\n"
     ]
    }
   ],
   "source": [
    "!adb devices"
   ]
  },
  {
   "cell_type": "code",
   "execution_count": 36,
   "metadata": {},
   "outputs": [],
   "source": [
    "!adb forward tcp:9999 tcp:2223"
   ]
  },
  {
   "cell_type": "code",
   "execution_count": 37,
   "metadata": {},
   "outputs": [],
   "source": [
    "import android"
   ]
  },
  {
   "cell_type": "code",
   "execution_count": 38,
   "metadata": {},
   "outputs": [],
   "source": [
    "droide = android.Android()"
   ]
  },
  {
   "cell_type": "code",
   "execution_count": 23,
   "metadata": {},
   "outputs": [
    {
     "data": {
      "text/plain": [
       "Result(id=0, result=None, error=None)"
      ]
     },
     "execution_count": 23,
     "metadata": {},
     "output_type": "execute_result"
    }
   ],
   "source": [
    "droide.makeToast(\"un texto cualquiera\")"
   ]
  },
  {
   "cell_type": "code",
   "execution_count": 39,
   "metadata": {},
   "outputs": [
    {
     "data": {
      "text/plain": [
       "Result(id=0, result=None, error=None)"
      ]
     },
     "execution_count": 39,
     "metadata": {},
     "output_type": "execute_result"
    }
   ],
   "source": [
    "#Este es un comentario de pyton y en general de celdas de codigo\n",
    "droide.vibrate(2000)"
   ]
  },
  {
   "cell_type": "code",
   "execution_count": 9,
   "metadata": {},
   "outputs": [
    {
     "data": {
      "text/plain": [
       "Result(id=2, result=None, error=None)"
      ]
     },
     "execution_count": 9,
     "metadata": {},
     "output_type": "execute_result"
    }
   ],
   "source": [
    "droide.notify(\"hola\",\"esta es un notificación\")"
   ]
  },
  {
   "cell_type": "code",
   "execution_count": 40,
   "metadata": {},
   "outputs": [],
   "source": [
    "for i in [\"hola\",\"clase\"]:\n",
    "    droide.ttsSpeak(i)"
   ]
  },
  {
   "cell_type": "code",
   "execution_count": null,
   "metadata": {},
   "outputs": [],
   "source": [
    " droide.notify(\"iniciando\", \"programacion\", \"en python\", \"y android\")\n",
    "#for i in [\"iniciando\", \"programacion\", \"en python\", \"y android\"]:\n",
    "   # droide.makeToast(i);\n",
    "   # if(i == \"en python\"): \n",
    "     #   droide.ttsSpeak(i)\n"
   ]
  },
  {
   "cell_type": "code",
   "execution_count": 41,
   "metadata": {},
   "outputs": [
    {
     "ename": "SyntaxError",
     "evalue": "invalid syntax (<ipython-input-41-932e9612b712>, line 1)",
     "output_type": "error",
     "traceback": [
      "\u001b[0;36m  File \u001b[0;32m\"<ipython-input-41-932e9612b712>\"\u001b[0;36m, line \u001b[0;32m1\u001b[0m\n\u001b[0;31m    String cadena = \"\";\u001b[0m\n\u001b[0m                ^\u001b[0m\n\u001b[0;31mSyntaxError\u001b[0m\u001b[0;31m:\u001b[0m invalid syntax\n"
     ]
    }
   ],
   "source": [
    "String cadena = \"\";\n",
    "while i in  [\"iniciando\", \"programación\", \"en python\", \"y android\"]:\n",
    "    #cadena = cadena + \" \"+ i\n",
    "    droide.makeToast(cadena)"
   ]
  },
  {
   "cell_type": "code",
   "execution_count": 29,
   "metadata": {},
   "outputs": [
    {
     "data": {
      "text/plain": [
       "Result(id=8, result=None, error=None)"
      ]
     },
     "execution_count": 29,
     "metadata": {},
     "output_type": "execute_result"
    }
   ],
   "source": [
    "droide.dialogCreateAlert(\"uno\",\"dos\")"
   ]
  },
  {
   "cell_type": "code",
   "execution_count": 30,
   "metadata": {},
   "outputs": [
    {
     "data": {
      "text/plain": [
       "Result(id=9, result=None, error=None)"
      ]
     },
     "execution_count": 30,
     "metadata": {},
     "output_type": "execute_result"
    }
   ],
   "source": [
    "droide.dialogShow()"
   ]
  },
  {
   "cell_type": "code",
   "execution_count": 42,
   "metadata": {},
   "outputs": [
    {
     "ename": "SyntaxError",
     "evalue": "'continue' not properly in loop (<ipython-input-42-dd3da0b507b2>, line 12)",
     "output_type": "error",
     "traceback": [
      "\u001b[0;36m  File \u001b[0;32m\"<ipython-input-42-dd3da0b507b2>\"\u001b[0;36m, line \u001b[0;32m12\u001b[0m\n\u001b[0;31m    continue\u001b[0m\n\u001b[0;31mSyntaxError\u001b[0m\u001b[0;31m:\u001b[0m 'continue' not properly in loop\n"
     ]
    }
   ],
   "source": [
    "droide.dialogCreateAlert(\"Observador de numeros\",\"Quieres ver los numeros?\")\n",
    "droide.dialogSetPositiveButtonText(\"Si muestramelos\")\n",
    "droide.dialogSetNegativeButtonText(\"NO, que pregunta\")\n",
    "#Ahora muestra el dialogo en el droid\n",
    "droide.dialogShow()\n",
    "#Obten la respuesta\n",
    "checa = droide.dialogGetResponse().result\n",
    "if checa[\"which\"] == \"positive\":\n",
    "    #return checa\n",
    "    print range(100)\n",
    "else:\n",
    "    continue"
   ]
  },
  {
   "cell_type": "code",
   "execution_count": null,
   "metadata": {},
   "outputs": [],
   "source": [
    "droid.clipBoard()"
   ]
  },
  {
   "cell_type": "code",
   "execution_count": 43,
   "metadata": {},
   "outputs": [
    {
     "ename": "ImportError",
     "evalue": "No module named weather",
     "output_type": "error",
     "traceback": [
      "\u001b[0;31m---------------------------------------------------------------------------\u001b[0m",
      "\u001b[0;31mImportError\u001b[0m                               Traceback (most recent call last)",
      "\u001b[0;32m<ipython-input-43-aa41108cd7ed>\u001b[0m in \u001b[0;36m<module>\u001b[0;34m()\u001b[0m\n\u001b[0;32m----> 1\u001b[0;31m \u001b[0;32mimport\u001b[0m \u001b[0mweather\u001b[0m\u001b[0;34m\u001b[0m\u001b[0m\n\u001b[0m",
      "\u001b[0;31mImportError\u001b[0m: No module named weather"
     ]
    }
   ],
   "source": [
    "import weather"
   ]
  },
  {
   "cell_type": "code",
   "execution_count": 52,
   "metadata": {},
   "outputs": [
    {
     "name": "stdout",
     "output_type": "stream",
     "text": [
      "1521095525000\n",
      "2018-03-15 00:32:05\n",
      "00:32:05\n",
      "15/03/2018 00:32:05\n",
      "72840\n",
      "MX\n",
      "Puebla\n",
      "2a. Privada M. Hidalgo\n"
     ]
    },
    {
     "data": {
      "text/plain": [
       "Result(id=33, result=None, error=None)"
      ]
     },
     "execution_count": 52,
     "metadata": {},
     "output_type": "execute_result"
    }
   ],
   "source": [
    "import sys\n",
    "#recargar ( sys )\n",
    "#sys.setdefaultencoding ( 'utf8' )\n",
    "#ultLoc = droide.readLocation()\n",
    "loc = droide.getLastKnownLocation().result\n",
    "if loc[\"gps\"] is not None:\n",
    "    loc = loc[\"gps\"]\n",
    "else:\n",
    "    loc = loc[\"network\"]\n",
    "#print loc\n",
    "lat = loc[\"latitude\"]\n",
    "lon = loc[\"longitude\"]\n",
    "time = loc['time']\n",
    "print time\n",
    "import datetime\n",
    "date = datetime.datetime.fromtimestamp(time / 1e3)\n",
    "hora = (datetime.datetime.fromtimestamp(\n",
    "time /1e3).strftime('%H:%M:%S'))\n",
    "print date\n",
    "print hora\n",
    "print (datetime.datetime.fromtimestamp(\n",
    "time /1e3).strftime('%d/%m/%Y %H:%M:%S'))\n",
    "direccion = droide.geocode(lat,lon)\n",
    "#print direccion\n",
    "cp = direccion.result[0][\"postal_code\"]\n",
    "cp# sin print imprime el código postal\n",
    "cc = direccion.result[0][\"country_code\"]\n",
    "ciudad = direccion.result[0][\"admin_area\"]\n",
    "calle = direccion.result[0][\"thoroughfare\"]\n",
    "print cp\n",
    "print cc\n",
    "print ciudad\n",
    "print calle\n",
    "#'{0} este es un texto---'.format(cp)\n",
    "#'zip={0},{1}'.format(cp,cc)\n",
    "#utilizamos la libreria \n",
    "import requests\n",
    "url=\"http://api.openweathermap.org/data/2.5/weather?zip={0},{1}&APPID=dfeea5e604e1948b28652216ad910d11\".format(cp,cc)\n",
    "r = requests.get(url).json()\n",
    "wdesc = r[\"weather\"][0][\"description\"]\n",
    "droide.ttsSpeak(wdesc)\n",
    "mensaje = \"En la ciudad de {0}, siendo las {1} horas, en la calle de {2}, el estado del tiempo es {3}\".format(ciudad,hora,calle,wdesc)\n",
    "droide.ttsSpeak(mensaje)\n",
    "  "
   ]
  },
  {
   "cell_type": "code",
   "execution_count": 50,
   "metadata": {},
   "outputs": [],
   "source": [
    "loc = droide.locationProviderEnabled(\"gps\")"
   ]
  },
  {
   "cell_type": "code",
   "execution_count": 94,
   "metadata": {},
   "outputs": [],
   "source": [
    "loc = droide.locationProviderEnabled(\"network\")"
   ]
  },
  {
   "cell_type": "code",
   "execution_count": 95,
   "metadata": {},
   "outputs": [
    {
     "data": {
      "text/plain": [
       "Result(id=17, result=None, error=None)"
      ]
     },
     "execution_count": 95,
     "metadata": {},
     "output_type": "execute_result"
    }
   ],
   "source": [
    "droide.startLocating(3)"
   ]
  },
  {
   "cell_type": "code",
   "execution_count": 96,
   "metadata": {},
   "outputs": [
    {
     "data": {
      "text/plain": [
       "{u'gps': {u'accuracy': 13.144451141357422,\n",
       "  u'altitude': 1412.2714528795332,\n",
       "  u'bearing': 273.0510559082031,\n",
       "  u'latitude': 19.519871128628402,\n",
       "  u'longitude': -96.91572363774686,\n",
       "  u'provider': u'gps',\n",
       "  u'speed': 3.284242630004883,\n",
       "  u'time': 1520693109000},\n",
       " u'local_database': None,\n",
       " u'network': {u'accuracy': 23.450000762939453,\n",
       "  u'altitude': 1355.0999755859375,\n",
       "  u'bearing': 0,\n",
       "  u'latitude': 19.5197144,\n",
       "  u'longitude': -96.9155701,\n",
       "  u'provider': u'network',\n",
       "  u'speed': 0,\n",
       "  u'time': 1520721469215},\n",
       " u'passive': {u'accuracy': 23.450000762939453,\n",
       "  u'altitude': 1355.0999755859375,\n",
       "  u'bearing': 0,\n",
       "  u'latitude': 19.5197144,\n",
       "  u'longitude': -96.9155701,\n",
       "  u'provider': u'network',\n",
       "  u'speed': 0,\n",
       "  u'time': 1520721469215}}"
      ]
     },
     "execution_count": 96,
     "metadata": {},
     "output_type": "execute_result"
    }
   ],
   "source": [
    "droide.getLastKnownLocation().result"
   ]
  },
  {
   "cell_type": "code",
   "execution_count": 97,
   "metadata": {},
   "outputs": [
    {
     "data": {
      "text/plain": [
       "{u'network': {u'accuracy': 20,\n",
       "  u'altitude': 1355.0999755859375,\n",
       "  u'bearing': 0,\n",
       "  u'latitude': 19.51971,\n",
       "  u'longitude': -96.9155696,\n",
       "  u'provider': u'network',\n",
       "  u'speed': 0,\n",
       "  u'time': 1520721328932}}"
      ]
     },
     "execution_count": 97,
     "metadata": {},
     "output_type": "execute_result"
    }
   ],
   "source": [
    "droide.readLocation().result"
   ]
  },
  {
   "cell_type": "code",
   "execution_count": null,
   "metadata": {},
   "outputs": [],
   "source": [
    "droide.viewmap('{0},{1}').format(lat,lon)"
   ]
  }
 ],
 "metadata": {
  "kernelspec": {
   "display_name": "Python 2",
   "language": "python",
   "name": "python2"
  },
  "language_info": {
   "codemirror_mode": {
    "name": "ipython",
    "version": 2
   },
   "file_extension": ".py",
   "mimetype": "text/x-python",
   "name": "python",
   "nbconvert_exporter": "python",
   "pygments_lexer": "ipython2",
   "version": "2.7.14"
  }
 },
 "nbformat": 4,
 "nbformat_minor": 2
}
